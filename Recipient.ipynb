{
 "cells": [
  {
   "cell_type": "markdown",
   "metadata": {},
   "source": [
    "## Train/Build the Model"
   ]
  },
  {
   "cell_type": "code",
   "execution_count": 1,
   "metadata": {},
   "outputs": [
    {
     "name": "stderr",
     "output_type": "stream",
     "text": [
      "c:\\ProgramData\\Anaconda3\\lib\\site-packages\\IPython\\core\\interactiveshell.py:2728: DtypeWarning: Columns (18,19,20,21,22,23,24,33,34,35,37,43,45) have mixed types. Specify dtype option on import or set low_memory=False.\n",
      "  interactivity=interactivity, compiler=compiler, result=result)\n"
     ]
    },
    {
     "data": {
      "text/plain": [
       "RandomForestRegressor(bootstrap=True, criterion='mse', max_depth=None,\n",
       "           max_features='auto', max_leaf_nodes=None,\n",
       "           min_impurity_decrease=0.0, min_impurity_split=None,\n",
       "           min_samples_leaf=1, min_samples_split=2,\n",
       "           min_weight_fraction_leaf=0.0, n_estimators=10, n_jobs=1,\n",
       "           oob_score=False, random_state=42, verbose=0, warm_start=False)"
      ]
     },
     "execution_count": 1,
     "metadata": {},
     "output_type": "execute_result"
    }
   ],
   "source": [
    "from sklearn.ensemble import RandomForestRegressor\n",
    "import numpy as np\n",
    "import pandas as pd\n",
    "import matplotlib.pyplot as plt\n",
    "import seaborn as sns\n",
    "from matplotlib import style\n",
    "style.use('fivethirtyeight')\n",
    "\n",
    "df = pd.read_csv('DC_Properties.csv')\n",
    "df.shape\n",
    "removable_features = ['SOURCE', 'CENSUS_TRACT', 'CENSUS_BLOCK', 'SQUARE', 'USECODE', 'Unnamed: 0', 'X', 'Y']\n",
    "df = df.drop(removable_features, axis=1)\n",
    "df.shape\n",
    "\n",
    "df['SALEDATE'] = pd.to_datetime(df['SALEDATE'])\n",
    "df['SALE_YR'] = df['SALEDATE'].dt.year; df['SALE_MONTH'] = df['SALEDATE'].dt.month\n",
    "df = df.drop('SALEDATE', axis=1)\n",
    "df = df.drop('GIS_LAST_MOD_DTTM', axis=1)\n",
    "df = df[~pd.isnull(df['PRICE'])]\n",
    "df = df.drop(df[df.PRICE>2000000].index)\n",
    "df.shape\n",
    "\n",
    "df = df.loc[:, df.isnull().sum() < 0.4*df.shape[0]]\n",
    "df = df.drop('ASSESSMENT_SUBNBHD', axis=1)\n",
    "df = df.dropna(how='any')\n",
    "df = df.drop(['LATITUDE','LONGITUDE','ZIPCODE'], axis=1)\n",
    "\n",
    "df = df[df.FIREPLACES<=11]\n",
    "df = df[df.AYB>=1825]\n",
    "df = df[df.EYB>=1900]\n",
    "df = df[df.LANDAREA<=50000]\n",
    "\n",
    "df = pd.concat([df, pd.get_dummies(df[['AC','QUALIFIED','WARD','QUADRANT']])], axis=1)\n",
    "df = df.drop(['AC','QUALIFIED','WARD','QUADRANT'], axis=1)\n",
    "from sklearn.preprocessing import LabelEncoder\n",
    "le = LabelEncoder()\n",
    "df['HEAT']=le.fit_transform(df['HEAT'])\n",
    "df['ASSESSMENT_NBHD']=le.fit_transform(df['ASSESSMENT_NBHD'])\n",
    "df.shape\n",
    "\n",
    "df[\"PRICE\"] = np.log1p(df[\"PRICE\"])\n",
    "df = df.drop(df[df.PRICE<10].index)\n",
    "y = df['PRICE']; X = df.drop('PRICE', axis=1)\n",
    "\n",
    "from sklearn.model_selection import train_test_split\n",
    "X_train, X_test, y_train, y_test = train_test_split(X,y, test_size = 0.20)\n",
    "forest_reg = RandomForestRegressor(random_state=42)\n",
    "forest_reg.fit(X_train, y_train)"
   ]
  },
  {
   "cell_type": "markdown",
   "metadata": {},
   "source": [
    "## Pickle (export) the trained model"
   ]
  },
  {
   "cell_type": "code",
   "execution_count": 2,
   "metadata": {},
   "outputs": [
    {
     "data": {
      "text/plain": [
       "['regmodel.pkl']"
      ]
     },
     "execution_count": 2,
     "metadata": {},
     "output_type": "execute_result"
    }
   ],
   "source": [
    "from sklearn.externals import joblib\n",
    "# now you can save it to a file\n",
    "joblib.dump(forest_reg, 'regmodel.pkl') "
   ]
  },
  {
   "cell_type": "code",
   "execution_count": null,
   "metadata": {},
   "outputs": [],
   "source": []
  }
 ],
 "metadata": {
  "kernelspec": {
   "display_name": "Python 3",
   "language": "python",
   "name": "python3"
  },
  "language_info": {
   "codemirror_mode": {
    "name": "ipython",
    "version": 3
   },
   "file_extension": ".py",
   "mimetype": "text/x-python",
   "name": "python",
   "nbconvert_exporter": "python",
   "pygments_lexer": "ipython3",
   "version": "3.6.4"
  }
 },
 "nbformat": 4,
 "nbformat_minor": 2
}
